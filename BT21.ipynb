{
  "nbformat": 4,
  "nbformat_minor": 0,
  "metadata": {
    "colab": {
      "name": "BT21.ipynb",
      "provenance": [],
      "collapsed_sections": [],
      "authorship_tag": "ABX9TyM7qLhBlHFjtBbhOdJCem9a",
      "include_colab_link": true
    },
    "kernelspec": {
      "name": "python3",
      "display_name": "Python 3"
    },
    "accelerator": "GPU"
  },
  "cells": [
    {
      "cell_type": "markdown",
      "metadata": {
        "id": "view-in-github",
        "colab_type": "text"
      },
      "source": [
        "<a href=\"https://colab.research.google.com/github/ManikaNagpal/Waste_Segregation/blob/master/BT21.ipynb\" target=\"_parent\"><img src=\"https://colab.research.google.com/assets/colab-badge.svg\" alt=\"Open In Colab\"/></a>"
      ]
    },
    {
      "cell_type": "code",
      "metadata": {
        "id": "mQUEb98BAe7W",
        "colab_type": "code",
        "colab": {
          "base_uri": "https://localhost:8080/",
          "height": 54
        },
        "outputId": "841ce3cf-be99-42ab-a02e-324423331225"
      },
      "source": [
        "#You first need to download the files and upload them in your Drive.\n",
        "#The files are available on my github: https://github.com/ManikaNagpal/Waste_Segregation.\n",
        "#Downloadand upload the two folders namely : BT21 and BT21_Test.\n",
        "#Then you can mount your own drive using the code below.\n",
        "\n",
        "from google.colab import drive\n",
        "drive.mount('/content/drive')\n",
        "data_root='/content/drive/My Drive/BT21'"
      ],
      "execution_count": 1,
      "outputs": [
        {
          "output_type": "stream",
          "text": [
            "Drive already mounted at /content/drive; to attempt to forcibly remount, call drive.mount(\"/content/drive\", force_remount=True).\n"
          ],
          "name": "stdout"
        }
      ]
    },
    {
      "cell_type": "code",
      "metadata": {
        "id": "kpUPt3whJAAE",
        "colab_type": "code",
        "colab": {
          "base_uri": "https://localhost:8080/",
          "height": 34
        },
        "outputId": "9b6720e3-3860-4b2b-e7d9-9699c0a71d45"
      },
      "source": [
        "# Part 1 - Building the CNN\n",
        "# Importing the Keras libraries and packages\n",
        "from keras.models import Sequential\n",
        "from keras.layers import Conv2D\n",
        "from keras.layers import MaxPooling2D\n",
        "from keras.layers import Flatten\n",
        "from keras.layers import Dense\n",
        "\n",
        "\n",
        "# Initialising the CNN\n",
        "classifier = Sequential()\n",
        "\n",
        "# Step 1 - Convolution\n",
        "classifier.add(Conv2D(32, (3, 3), input_shape = (64, 64, 3), activation = 'relu'))\n",
        "\n",
        "# Step 2 - Pooling\n",
        "classifier.add(MaxPooling2D(pool_size = (2, 2)))\n",
        "\n",
        "# Adding a second convolutional layer\n",
        "classifier.add(Conv2D(32, (3, 3), activation = 'relu'))\n",
        "classifier.add(MaxPooling2D(pool_size = (2, 2)))\n",
        "\n",
        "\n",
        "\n",
        "# Step 3 - Flattening\n",
        "classifier.add(Flatten())\n",
        "\n",
        "# Step 4 - Full connection\n",
        "classifier.add(Dense(units = 128, activation = 'relu'))\n",
        "\n",
        "classifier.add(Dense(units = 8, activation = 'softmax'))\n",
        "\n",
        "# Compiling the CNN\n",
        "classifier.compile(optimizer = 'adam', loss = 'categorical_crossentropy', metrics = ['accuracy'])\n"
      ],
      "execution_count": 2,
      "outputs": [
        {
          "output_type": "stream",
          "text": [
            "Using TensorFlow backend.\n"
          ],
          "name": "stderr"
        }
      ]
    },
    {
      "cell_type": "code",
      "metadata": {
        "id": "i6AAHYkEJRJp",
        "colab_type": "code",
        "colab": {
          "base_uri": "https://localhost:8080/",
          "height": 188
        },
        "outputId": "2483b231-3ebc-473a-85eb-1cb11af106c8"
      },
      "source": [
        "#Part 2\n",
        "\n",
        "from keras.preprocessing.image import ImageDataGenerator\n",
        "\n",
        "train_datagen = ImageDataGenerator(rescale = 1./255,\n",
        "                                   shear_range = 0.2,\n",
        "                                   zoom_range = 0.2,\n",
        "                                   horizontal_flip = True)\n",
        "\n",
        "valid_datagen = ImageDataGenerator(rescale = 1./255)\n",
        "\n",
        "Training_data_dir = str(data_root)+'/Train'\n",
        "print(Training_data_dir);\n",
        "\n",
        "Valid_data_dir = str(data_root)+'/Valid'\n",
        "print(Valid_data_dir);\n",
        "\n",
        "training_set = train_datagen.flow_from_directory(Training_data_dir,\n",
        "                                                 target_size = (64, 64),\n",
        "                                                 batch_size = 159,\n",
        "                                                 shuffle=True,\n",
        "                                                 seed=12345,                                                 \n",
        "                                                 class_mode = 'categorical')\n",
        "\n",
        "valid_set = valid_datagen.flow_from_directory(Valid_data_dir,\n",
        "                                            target_size = (64, 64),\n",
        "                                            batch_size = 44,\n",
        "                                            shuffle=False,\n",
        "                                            class_mode = 'categorical')\n",
        "\n",
        "classifier.fit_generator(training_set,\n",
        "                         steps_per_epoch = 159,\n",
        "                         epochs = 2,\n",
        "                         validation_data = valid_set,   \n",
        "                         validation_steps = 44)\n"
      ],
      "execution_count": 3,
      "outputs": [
        {
          "output_type": "stream",
          "text": [
            "/content/drive/My Drive/BT21/Train\n",
            "/content/drive/My Drive/BT21/Valid\n",
            "Found 159 images belonging to 8 classes.\n",
            "Found 44 images belonging to 8 classes.\n",
            "Epoch 1/2\n",
            "159/159 [==============================] - 243s 2s/step - loss: 0.2602 - accuracy: 0.9171 - val_loss: 1.2238 - val_accuracy: 0.8636\n",
            "Epoch 2/2\n",
            "159/159 [==============================] - 242s 2s/step - loss: 0.0086 - accuracy: 0.9983 - val_loss: 1.3144 - val_accuracy: 0.8636\n"
          ],
          "name": "stdout"
        },
        {
          "output_type": "execute_result",
          "data": {
            "text/plain": [
              "<keras.callbacks.callbacks.History at 0x7fe2806f8128>"
            ]
          },
          "metadata": {
            "tags": []
          },
          "execution_count": 3
        }
      ]
    },
    {
      "cell_type": "code",
      "metadata": {
        "id": "KLmBicdeJdED",
        "colab_type": "code",
        "colab": {
          "base_uri": "https://localhost:8080/",
          "height": 318
        },
        "outputId": "4c3c082b-518d-46e7-ad08-87a3f7c58804"
      },
      "source": [
        "# Part 3 - Making new predictions: Meeting the BT21 Characters\n",
        "import numpy as np\n",
        "from keras.preprocessing import image\n",
        "import matplotlib.pyplot as plt\n",
        "\n",
        "test_root='/content/drive/My Drive/BT21Test'\n",
        "\n",
        "name = input(\"Enter the character you want to see (Chimmy/Cooky/Koya/Mang/RJ/Shooky/Tata/Van): \")\n",
        "\n",
        "character = image.load_img(test_root+ '/' + name + '.jpg')\n",
        "test_image = image.load_img(test_root+ '/' + name + '.jpg', target_size = (64, 64))\n",
        "test_image = image.img_to_array(test_image)\n",
        "test_image = np.expand_dims(test_image, axis = 0)\n",
        "result = classifier.predict(test_image)\n",
        "\n",
        "#print(result)\n",
        "if result[0][0] == 1:\n",
        "    prediction = 'Chimmy'\n",
        "#    print(prediction)\n",
        "elif result[0][1] == 1:\n",
        "    prediction = 'Cooky'\n",
        "#    print(prediction)  \n",
        "elif result[0][2] == 1:\n",
        "    prediction = 'Koya'\n",
        "#    print(prediction)\n",
        "elif result[0][3] == 1:\n",
        "    prediction = 'Mang'\n",
        "#    print(prediction)\n",
        "elif result[0][4] == 1:\n",
        "    prediction = 'RJ'\n",
        "#    print(prediction)\n",
        "elif result[0][5] == 1:\n",
        "    prediction = 'Shooky'\n",
        "#    print(prediction)\n",
        "elif result[0][6] == 1:\n",
        "    prediction = 'Tata'\n",
        "#    print(prediction)   \n",
        "else:\n",
        "    prediction = 'Van'\n",
        "#    print(prediction)\n",
        "\n",
        "plt.imshow(character)\n",
        "c = \"Hello! My name is '\"+name+\"' and computer thinks my name is '\" +prediction +\"'\"\n",
        "plt.title(c,color='red',fontsize = 18)\n"
      ],
      "execution_count": 4,
      "outputs": [
        {
          "output_type": "stream",
          "text": [
            "Enter the character you want to see (Chimmy/Cooky/Koya/Mang/RJ/Shooky/Tata/Van): Cooky\n"
          ],
          "name": "stdout"
        },
        {
          "output_type": "execute_result",
          "data": {
            "text/plain": [
              "Text(0.5, 1.0, \"Hello! My name is 'Cooky' and computer thinks my name is 'Cooky'\")"
            ]
          },
          "metadata": {
            "tags": []
          },
          "execution_count": 4
        },
        {
          "output_type": "display_data",
          "data": {
            "image/png": "[encoded data removed]",
            "text/plain": [
              "<Figure size 432x288 with 1 Axes>"
            ]
          },
          "metadata": {
            "tags": [],
            "needs_background": "light"
          }
        }
      ]
    }
  ]
}