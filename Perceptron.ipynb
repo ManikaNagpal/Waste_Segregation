{
 "cells": [
  {
   "cell_type": "code",
   "execution_count": 1,
   "metadata": {},
   "outputs": [],
   "source": [
    "#Creating Our Dataset\n",
    "import pandas as pd\n",
    "import numpy as  np\n",
    "pv = np.array([[0,0],[0,1],[1,0],[1,1]])\n",
    "c = np.array([1,1,-1,-1])     \n",
    "#pv[:,0]\n",
    "dataset = pd.DataFrame({ 'Feature1':pv[:,0],'Feature2': pv[:,1], 'Classes':c })"
   ]
  },
  {
   "cell_type": "code",
   "execution_count": 2,
   "metadata": {},
   "outputs": [],
   "source": [
    "import numpy as np\n",
    "\n",
    "\n",
    "def perceptron(dataset, alpha, n):\n",
    "    pattern_vector = dataset[:,:-1] #Input features or pattern vector\n",
    "    #print(\"Pattern_Vector is\",pattern_vector)\n",
    "    classes = dataset[:, -1] #Class corresponding to each feature\n",
    "    #print(\"classes vector\",classes)\n",
    "    \n",
    "    \n",
    "    s = pattern_vector.shape[1]+1 # Adding 1 for augmentation of vectors\n",
    "    #print(\"shape of w is\",s)\n",
    "    w = np.zeros(shape=s)#Initial weights\n",
    "    #print(\"Initial Weight is \",w)\n",
    "    \n",
    "    rows = np. size(pattern_vector, 0)\n",
    "    \n",
    "    \n",
    "    for k in range(0,n):\n",
    "        for i in range(0,rows):\n",
    "            \n",
    "            x = pattern_vector[i,:]\n",
    "            y = np.append(x,1) #Augmenting the pattern vector\n",
    "            \n",
    "            c = classes[i]#Actual class of pattern_vector\n",
    "            \n",
    "            #print(\"y is\",y,\"and corr c is\",c) \n",
    "            \n",
    "            d = np.dot(w.transpose(), y) #Calculating d(y)\n",
    "            cl = 1.0 if(d>0) else -1.0 #learning the class with the output of d(y)\n",
    "            #print(\"cl is\",cl)\n",
    "            #checking whether the class has been labelled correctly or not\n",
    "            \n",
    "            if(c>0 and (d<0 or d==0)):\n",
    "                w = w +  (alpha* y)\n",
    "                \n",
    "            elif(c<0 and (d>0 or d==0)):\n",
    "                w = w -  (alpha* y)\n",
    "                \n",
    "        #print(\"w for\" ,k+1, \"is \",w)\n",
    "        \n",
    "    return w        \n",
    "    \n",
    "    "
   ]
  },
  {
   "cell_type": "code",
   "execution_count": 3,
   "metadata": {},
   "outputs": [
    {
     "data": {
      "text/plain": [
       "array([-2.,  0.,  1.])"
      ]
     },
     "execution_count": 3,
     "metadata": {},
     "output_type": "execute_result"
    }
   ],
   "source": [
    "perceptron(dataset.values, 1.0, 14)"
   ]
  },
  {
   "cell_type": "code",
   "execution_count": null,
   "metadata": {},
   "outputs": [],
   "source": []
  }
 ],
 "metadata": {
  "kernelspec": {
   "display_name": "Python 3",
   "language": "python",
   "name": "python3"
  },
  "language_info": {
   "codemirror_mode": {
    "name": "ipython",
    "version": 3
   },
   "file_extension": ".py",
   "mimetype": "text/x-python",
   "name": "python",
   "nbconvert_exporter": "python",
   "pygments_lexer": "ipython3",
   "version": "3.7.6"
  }
 },
 "nbformat": 4,
 "nbformat_minor": 4
}
